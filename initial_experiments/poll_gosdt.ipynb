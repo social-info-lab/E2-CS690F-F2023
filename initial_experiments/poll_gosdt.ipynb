{
 "cells": [
  {
   "cell_type": "code",
   "execution_count": 2,
   "metadata": {},
   "outputs": [],
   "source": [
    "import pandas as pd\n",
    "import numpy as np\n",
    "from sklearn.metrics import precision_recall_fscore_support\n",
    "from sklearn.model_selection import train_test_split"
   ]
  },
  {
   "cell_type": "code",
   "execution_count": 3,
   "metadata": {},
   "outputs": [],
   "source": [
    "# read the dataset\n",
    "df = pd.read_csv(\"../datasets/polls-50k.csv\")\n",
    "# remove the column 'class' if present as this causes an internal error\n",
    "if 'class' in df.columns:\n",
    "    df = df.drop(columns=['class'])\n",
    "# cut_off can be set to limit the number of features\n",
    "cut_off = 500\n",
    "if cut_off < df.shape[1]:\n",
    "    X, y = df.iloc[:,:cut_off].values, df.iloc[:,-1].values\n",
    "    h = df.columns[:cut_off]\n",
    "else:\n",
    "    X, y = df.iloc[:,:-1].values, df.iloc[:,-1].values\n",
    "    h = df.columns[:-1]\n",
    "\n",
    "# split the dataset into train and test\n",
    "X_train, X_test, y_train, y_test = train_test_split(X, y)\n",
    "# convert the train and test data into dataframes\n",
    "X_train, X_test = pd.DataFrame(X_train, columns=h), pd.DataFrame(X_test, columns=h)\n",
    "y_train, y_test = pd.DataFrame(y_train, columns=['relevant']), pd.DataFrame(y_test, columns=['relevant'])"
   ]
  },
  {
   "cell_type": "code",
   "execution_count": 4,
   "metadata": {},
   "outputs": [
    {
     "name": "stdout",
     "output_type": "stream",
     "text": [
      "<class 'pandas.core.frame.DataFrame'>\n",
      "RangeIndex: 39718 entries, 0 to 39717\n",
      "Columns: 500 entries, rt to कर\n",
      "dtypes: float64(500)\n",
      "memory usage: 151.5 MB\n"
     ]
    }
   ],
   "source": [
    "X_train.info()"
   ]
  },
  {
   "cell_type": "code",
   "execution_count": 5,
   "metadata": {},
   "outputs": [
    {
     "data": {
      "text/html": [
       "<div>\n",
       "<style scoped>\n",
       "    .dataframe tbody tr th:only-of-type {\n",
       "        vertical-align: middle;\n",
       "    }\n",
       "\n",
       "    .dataframe tbody tr th {\n",
       "        vertical-align: top;\n",
       "    }\n",
       "\n",
       "    .dataframe thead th {\n",
       "        text-align: right;\n",
       "    }\n",
       "</style>\n",
       "<table border=\"1\" class=\"dataframe\">\n",
       "  <thead>\n",
       "    <tr style=\"text-align: right;\">\n",
       "      <th></th>\n",
       "      <th>rt</th>\n",
       "      <th>vote</th>\n",
       "      <th>tta</th>\n",
       "      <th>winner</th>\n",
       "      <th>follow</th>\n",
       "      <th>coupon</th>\n",
       "      <th>ticket</th>\n",
       "      <th>giveaway</th>\n",
       "      <th>get</th>\n",
       "      <th>like</th>\n",
       "      <th>voting</th>\n",
       "      <th>free</th>\n",
       "      <th>poll</th>\n",
       "      <th>rules</th>\n",
       "      <th>the</th>\n",
       "      <th>amp</th>\n",
       "      <th>trump</th>\n",
       "      <th>artist</th>\n",
       "      <th>de</th>\n",
       "      <th>ga</th>\n",
       "    </tr>\n",
       "  </thead>\n",
       "  <tbody>\n",
       "    <tr>\n",
       "      <th>0</th>\n",
       "      <td>1.0</td>\n",
       "      <td>0.0</td>\n",
       "      <td>0.0</td>\n",
       "      <td>0.0</td>\n",
       "      <td>0.0</td>\n",
       "      <td>0.0</td>\n",
       "      <td>0.0</td>\n",
       "      <td>0.0</td>\n",
       "      <td>0.0</td>\n",
       "      <td>0.0</td>\n",
       "      <td>0.0</td>\n",
       "      <td>0.0</td>\n",
       "      <td>0.0</td>\n",
       "      <td>0.0</td>\n",
       "      <td>0.0</td>\n",
       "      <td>0.0</td>\n",
       "      <td>0.0</td>\n",
       "      <td>0.0</td>\n",
       "      <td>0.0</td>\n",
       "      <td>0.0</td>\n",
       "    </tr>\n",
       "    <tr>\n",
       "      <th>1</th>\n",
       "      <td>1.0</td>\n",
       "      <td>0.0</td>\n",
       "      <td>0.0</td>\n",
       "      <td>0.0</td>\n",
       "      <td>0.0</td>\n",
       "      <td>0.0</td>\n",
       "      <td>0.0</td>\n",
       "      <td>0.0</td>\n",
       "      <td>0.0</td>\n",
       "      <td>0.0</td>\n",
       "      <td>0.0</td>\n",
       "      <td>0.0</td>\n",
       "      <td>0.0</td>\n",
       "      <td>0.0</td>\n",
       "      <td>0.0</td>\n",
       "      <td>0.0</td>\n",
       "      <td>0.0</td>\n",
       "      <td>0.0</td>\n",
       "      <td>0.0</td>\n",
       "      <td>0.0</td>\n",
       "    </tr>\n",
       "    <tr>\n",
       "      <th>2</th>\n",
       "      <td>1.0</td>\n",
       "      <td>0.0</td>\n",
       "      <td>0.0</td>\n",
       "      <td>0.0</td>\n",
       "      <td>0.0</td>\n",
       "      <td>0.0</td>\n",
       "      <td>0.0</td>\n",
       "      <td>0.0</td>\n",
       "      <td>1.0</td>\n",
       "      <td>0.0</td>\n",
       "      <td>0.0</td>\n",
       "      <td>1.0</td>\n",
       "      <td>0.0</td>\n",
       "      <td>0.0</td>\n",
       "      <td>1.0</td>\n",
       "      <td>0.0</td>\n",
       "      <td>0.0</td>\n",
       "      <td>1.0</td>\n",
       "      <td>0.0</td>\n",
       "      <td>1.0</td>\n",
       "    </tr>\n",
       "    <tr>\n",
       "      <th>3</th>\n",
       "      <td>1.0</td>\n",
       "      <td>0.0</td>\n",
       "      <td>0.0</td>\n",
       "      <td>0.0</td>\n",
       "      <td>0.0</td>\n",
       "      <td>0.0</td>\n",
       "      <td>0.0</td>\n",
       "      <td>0.0</td>\n",
       "      <td>0.0</td>\n",
       "      <td>0.0</td>\n",
       "      <td>0.0</td>\n",
       "      <td>0.0</td>\n",
       "      <td>0.0</td>\n",
       "      <td>0.0</td>\n",
       "      <td>0.0</td>\n",
       "      <td>0.0</td>\n",
       "      <td>0.0</td>\n",
       "      <td>0.0</td>\n",
       "      <td>0.0</td>\n",
       "      <td>0.0</td>\n",
       "    </tr>\n",
       "    <tr>\n",
       "      <th>4</th>\n",
       "      <td>1.0</td>\n",
       "      <td>0.0</td>\n",
       "      <td>0.0</td>\n",
       "      <td>0.0</td>\n",
       "      <td>0.0</td>\n",
       "      <td>0.0</td>\n",
       "      <td>0.0</td>\n",
       "      <td>0.0</td>\n",
       "      <td>0.0</td>\n",
       "      <td>0.0</td>\n",
       "      <td>0.0</td>\n",
       "      <td>0.0</td>\n",
       "      <td>0.0</td>\n",
       "      <td>0.0</td>\n",
       "      <td>0.0</td>\n",
       "      <td>0.0</td>\n",
       "      <td>0.0</td>\n",
       "      <td>0.0</td>\n",
       "      <td>0.0</td>\n",
       "      <td>0.0</td>\n",
       "    </tr>\n",
       "  </tbody>\n",
       "</table>\n",
       "</div>"
      ],
      "text/plain": [
       "    rt  vote  tta  winner  follow  coupon  ticket  giveaway  get  like  \\\n",
       "0  1.0   0.0  0.0     0.0     0.0     0.0     0.0       0.0  0.0   0.0   \n",
       "1  1.0   0.0  0.0     0.0     0.0     0.0     0.0       0.0  0.0   0.0   \n",
       "2  1.0   0.0  0.0     0.0     0.0     0.0     0.0       0.0  1.0   0.0   \n",
       "3  1.0   0.0  0.0     0.0     0.0     0.0     0.0       0.0  0.0   0.0   \n",
       "4  1.0   0.0  0.0     0.0     0.0     0.0     0.0       0.0  0.0   0.0   \n",
       "\n",
       "   voting  free  poll  rules  the  amp  trump  artist   de   ga  \n",
       "0     0.0   0.0   0.0    0.0  0.0  0.0    0.0     0.0  0.0  0.0  \n",
       "1     0.0   0.0   0.0    0.0  0.0  0.0    0.0     0.0  0.0  0.0  \n",
       "2     0.0   1.0   0.0    0.0  1.0  0.0    0.0     1.0  0.0  1.0  \n",
       "3     0.0   0.0   0.0    0.0  0.0  0.0    0.0     0.0  0.0  0.0  \n",
       "4     0.0   0.0   0.0    0.0  0.0  0.0    0.0     0.0  0.0  0.0  "
      ]
     },
     "execution_count": 5,
     "metadata": {},
     "output_type": "execute_result"
    }
   ],
   "source": [
    "# first 20 features\n",
    "X_train.iloc[:,:20].head()"
   ]
  },
  {
   "cell_type": "code",
   "execution_count": 6,
   "metadata": {},
   "outputs": [
    {
     "name": "stdout",
     "output_type": "stream",
     "text": [
      "1/num_samples: 1.8882888326598438e-05\n"
     ]
    }
   ],
   "source": [
    "\"\"\"GitHub GOSDT key params:\n",
    "    regularization -- Note: We highly recommend setting the regularization to a value larger than 1/num_samples.\n",
    "    depth_budget -- limits the max depth of the tree\n",
    "\"\"\"\n",
    "print(f\"1/num_samples: {1/len(y)}\")"
   ]
  },
  {
   "cell_type": "code",
   "execution_count": 7,
   "metadata": {},
   "outputs": [
    {
     "name": "stdout",
     "output_type": "stream",
     "text": [
      "gosdt reported possible timeout.\n",
      "training completed. -1.000/-1.000/-1.000 (user, system, wall), mem=0 MB\n",
      "bounds: [0.024604..0.035286] (0.010682) loss=0.019286, iterations=339999\n",
      "evaluate the model, extracting tree and scores\n",
      "Training accuracy: 0.9807140339392718, Test accuracy: 0.9810422960725076\n",
      "Metrics per class: [0 1] with 1=Relevant\n",
      "Precision: [0.9986 0.6764], Recall: [0.9817 0.9644], F1: [0.9901 0.7951], Support: [12735   505]\n",
      "# of leaves: 2\n",
      "if trump = 1.0 then:\n",
      "    predicted class: 1\n",
      "    misclassification penalty: 0.018\n",
      "    complexity penalty: 0.008\n",
      "\n",
      "else if trump != 1.0 then:\n",
      "    predicted class: 0\n",
      "    misclassification penalty: 0.001\n",
      "    complexity penalty: 0.008\n"
     ]
    }
   ],
   "source": [
    "from model.gosdt import GOSDT\n",
    "# set GOSDT configuration\n",
    "config = {\n",
    "            \"regularization\": 0.008,#0.002, \n",
    "            # regularization penalizes the tree with more leaves. We recommend to set it to relative high value to find a sparse tree.  \n",
    "            \"depth_budget\": 6, # limits the max depth of the tree\n",
    "            \"time_limit\": 1500, # training time limit in seconds\n",
    "            # \"similar_support\": False\n",
    "            # \"verbose\": True,\n",
    "        }\n",
    "\n",
    "model = GOSDT(config)\n",
    "\n",
    "# train GOSDT \n",
    "model.fit(X_train, y_train)\n",
    "print(\"evaluate the model, extracting tree and scores\", flush=True)\n",
    "\n",
    "prec, rec, f1, supp = precision_recall_fscore_support(y_test, model.predict(X_test))\n",
    "test_acc = model.score(X_test, y_test)\n",
    "train_acc = model.score(X_train, y_train)\n",
    "n_leaves = model.leaves()\n",
    "n_nodes = model.nodes()\n",
    "time = model.utime\n",
    "\n",
    "# print(f\"Model training time: {time}\")\n",
    "print(f\"Training accuracy: {train_acc}, Test accuracy: {test_acc}\")\n",
    "# print(f\"Error: {model.error(X_train, y_train)}\")\n",
    "print(\"Metrics per class: [0 1] with 1=Relevant\")\n",
    "print(f\"Precision: {np.round(prec,4)}, Recall: {np.round(rec,4)}, F1: {np.round(f1,4)}, Support: {supp}\")\n",
    "print(f\"# of leaves: {n_leaves}\")\n",
    "df_eval = pd.DataFrame({\"precision\": prec, \"recall\": rec, \"f1\": f1, \"support\": supp})\n",
    "print(model.tree)"
   ]
  },
  {
   "cell_type": "code",
   "execution_count": 17,
   "metadata": {},
   "outputs": [
    {
     "name": "stdout",
     "output_type": "stream",
     "text": [
      "Current parameters:\n",
      "    \"regularization\": 0.008,\n",
      "    \"depth_budget\": 6,\n",
      "    Training dataset size: rows:39718, features(words):500,\n",
      "    \n"
     ]
    }
   ],
   "source": [
    "print(f\"\"\"Current parameters:\n",
    "    \"regularization\": {config['regularization']},\n",
    "    \"depth_budget\": {config['depth_budget']},\n",
    "    Training dataset size: rows:{len(y_train)}, features(words):{len(X_train.columns)},\n",
    "    \"\"\")"
   ]
  },
  {
   "cell_type": "code",
   "execution_count": 8,
   "metadata": {},
   "outputs": [
    {
     "data": {
      "text/plain": [
       "'[ $trump  \\\\eq  1.0$ [ $class$ [ $1$ ] ] [ $class$ [ $0$ ] ] ]'"
      ]
     },
     "execution_count": 8,
     "metadata": {},
     "output_type": "execute_result"
    }
   ],
   "source": [
    "model.latex()"
   ]
  },
  {
   "cell_type": "markdown",
   "metadata": {},
   "source": [
    "#### Sci_kit learn standard decision tree"
   ]
  },
  {
   "cell_type": "code",
   "execution_count": 14,
   "metadata": {},
   "outputs": [
    {
     "name": "stdout",
     "output_type": "stream",
     "text": [
      "Training accuracy: 0.9860264867314568, Test accuracy: 0.986178247734139\n",
      "Precision: [0.9971 0.7614], Recall: [0.9885 0.9287], F1: [0.9928 0.8368], Support: [12735   505]\n",
      "# of leaves: 32, depth: 6\n"
     ]
    },
    {
     "data": {
      "text/html": [
       "<div>\n",
       "<style scoped>\n",
       "    .dataframe tbody tr th:only-of-type {\n",
       "        vertical-align: middle;\n",
       "    }\n",
       "\n",
       "    .dataframe tbody tr th {\n",
       "        vertical-align: top;\n",
       "    }\n",
       "\n",
       "    .dataframe thead th {\n",
       "        text-align: right;\n",
       "    }\n",
       "</style>\n",
       "<table border=\"1\" class=\"dataframe\">\n",
       "  <thead>\n",
       "    <tr style=\"text-align: right;\">\n",
       "      <th></th>\n",
       "      <th>precision</th>\n",
       "      <th>recall</th>\n",
       "      <th>f1</th>\n",
       "      <th>support</th>\n",
       "    </tr>\n",
       "  </thead>\n",
       "  <tbody>\n",
       "    <tr>\n",
       "      <th>GOSDT 0</th>\n",
       "      <td>0.998562</td>\n",
       "      <td>0.981704</td>\n",
       "      <td>0.990061</td>\n",
       "      <td>12735.0</td>\n",
       "    </tr>\n",
       "    <tr>\n",
       "      <th>GOSDT 1</th>\n",
       "      <td>0.676389</td>\n",
       "      <td>0.964356</td>\n",
       "      <td>0.795102</td>\n",
       "      <td>505.0</td>\n",
       "    </tr>\n",
       "    <tr>\n",
       "      <th>DT 0</th>\n",
       "      <td>0.997148</td>\n",
       "      <td>0.988457</td>\n",
       "      <td>0.992784</td>\n",
       "      <td>12735.0</td>\n",
       "    </tr>\n",
       "    <tr>\n",
       "      <th>DT 1</th>\n",
       "      <td>0.761364</td>\n",
       "      <td>0.928713</td>\n",
       "      <td>0.836753</td>\n",
       "      <td>505.0</td>\n",
       "    </tr>\n",
       "  </tbody>\n",
       "</table>\n",
       "</div>"
      ],
      "text/plain": [
       "         precision    recall        f1  support\n",
       "GOSDT 0   0.998562  0.981704  0.990061  12735.0\n",
       "GOSDT 1   0.676389  0.964356  0.795102    505.0\n",
       "DT 0      0.997148  0.988457  0.992784  12735.0\n",
       "DT 1      0.761364  0.928713  0.836753    505.0"
      ]
     },
     "execution_count": 14,
     "metadata": {},
     "output_type": "execute_result"
    }
   ],
   "source": [
    "from sklearn import tree\n",
    "\n",
    "# create a decision tree classifier\n",
    "clf = tree.DecisionTreeClassifier(max_depth=6, min_samples_leaf=5)\n",
    "\n",
    "# train the classifier\n",
    "clf.fit(X_train, y_train)\n",
    "train_acc = clf.score(X_train, y_train)\n",
    "test_acc = clf.score(X_test, y_test)\n",
    "prec, rec, f1, supp = precision_recall_fscore_support(y_test, clf.predict(X_test)) #, pos_label=1, average='binary')\n",
    "print(f\"Training accuracy: {train_acc}, Test accuracy: {test_acc}\")\n",
    "print(f\"Precision: {np.round(prec,4)}, Recall: {np.round(rec,4)}, F1: {np.round(f1,4)}, Support: {supp}\")\n",
    "print(f\"# of leaves: {clf.get_n_leaves()}, depth: {clf.get_depth()}\")\n",
    "\n",
    "# add row to df_eval\n",
    "df_eval.loc[len(df_eval)] = [prec[0], rec[0], f1[0], supp[0]]\n",
    "df_eval.loc[len(df_eval)] = [prec[1], rec[1], f1[1], supp[1]]\n",
    "df_eval.index = ['GOSDT 0', 'GOSDT 1', 'DT 0', 'DT 1']\n",
    "df_eval"
   ]
  },
  {
   "cell_type": "code",
   "execution_count": 15,
   "metadata": {},
   "outputs": [
    {
     "data": {
      "image/png": "[encoded data removed]",
      "text/plain": [
       "<Figure size 640x480 with 1 Axes>"
      ]
     },
     "metadata": {},
     "output_type": "display_data"
    }
   ],
   "source": [
    "_ = tree.plot_tree(clf, feature_names=h, class_names=['irrelevant', 'relevant'], filled=True)"
   ]
  },
  {
   "cell_type": "code",
   "execution_count": 11,
   "metadata": {},
   "outputs": [
    {
     "name": "stdout",
     "output_type": "stream",
     "text": [
      "|--- trump <= 0.50\n",
      "|   |--- biden <= 0.50\n",
      "|   |   |--- election <= 0.50\n",
      "|   |   |   |--- class: 0\n",
      "|   |   |--- election >  0.50\n",
      "|   |   |   |--- class: 0\n",
      "|   |--- biden >  0.50\n",
      "|   |   |--- rt <= 0.50\n",
      "|   |   |   |--- class: 1\n",
      "|   |   |--- rt >  0.50\n",
      "|   |   |   |--- class: 0\n",
      "|--- trump >  0.50\n",
      "|   |--- who <= 0.50\n",
      "|   |   |--- clinton <= 0.50\n",
      "|   |   |   |--- class: 1\n",
      "|   |   |--- clinton >  0.50\n",
      "|   |   |   |--- class: 1\n",
      "|   |--- who >  0.50\n",
      "|   |   |--- amp <= 0.50\n",
      "|   |   |   |--- class: 1\n",
      "|   |   |--- amp >  0.50\n",
      "|   |   |   |--- class: 1\n",
      "\n"
     ]
    }
   ],
   "source": [
    "tree_text = tree.export_text(clf, feature_names=h.tolist())\n",
    "print(tree_text)"
   ]
  },
  {
   "cell_type": "code",
   "execution_count": 13,
   "metadata": {},
   "outputs": [],
   "source": [
    "# print(f'Decision path: {clf.decision_path(X)}')"
   ]
  }
 ],
 "metadata": {
  "kernelspec": {
   "display_name": "gosdt_venv",
   "language": "python",
   "name": "python3"
  },
  "language_info": {
   "codemirror_mode": {
    "name": "ipython",
    "version": 3
   },
   "file_extension": ".py",
   "mimetype": "text/x-python",
   "name": "python",
   "nbconvert_exporter": "python",
   "pygments_lexer": "ipython3",
   "version": "3.9.7"
  }
 },
 "nbformat": 4,
 "nbformat_minor": 2
}
