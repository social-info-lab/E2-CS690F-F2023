{
 "cells": [
  {
   "cell_type": "code",
   "execution_count": 2,
   "metadata": {},
   "outputs": [],
   "source": [
    "import pandas as pd"
   ]
  },
  {
   "cell_type": "code",
   "execution_count": 9,
   "metadata": {},
   "outputs": [],
   "source": [
    "# read the dataset\n",
    "df = pd.read_csv(\"../experiments/datasets/polls/polls-tfidf-top-k.csv\")\n",
    "# remove the column 'class' if present as this leads to an error\n",
    "if 'class' in df.columns:\n",
    "    df = df.drop(columns=['class'])\n",
    "cut_off = 20\n",
    "if cut_off < 100:\n",
    "    X, y = df.iloc[:,:cut_off].values, df.iloc[:,-1].values\n",
    "    h = df.columns[:cut_off]\n",
    "else:\n",
    "    X, y = df.iloc[:,:-1].values, df.iloc[:,-1].values\n",
    "    h = df.columns[:-1]\n",
    "X = pd.DataFrame(X, columns=h)"
   ]
  },
  {
   "cell_type": "code",
   "execution_count": 17,
   "metadata": {},
   "outputs": [],
   "source": [
    "# X.info()"
   ]
  },
  {
   "cell_type": "code",
   "execution_count": 11,
   "metadata": {},
   "outputs": [
    {
     "name": "stdout",
     "output_type": "stream",
     "text": [
      "1/num_samples: 0.0003380662609871535\n"
     ]
    }
   ],
   "source": [
    "\"\"\"GitHub key params:\n",
    "    regularization -- Note: We highly recommend setting the regularization to a value larger than 1/num_samples.\n",
    "\"\"\"\n",
    "print(f\"1/num_samples: {1/len(y)}\")"
   ]
  },
  {
   "cell_type": "code",
   "execution_count": 13,
   "metadata": {},
   "outputs": [
    {
     "name": "stdout",
     "output_type": "stream",
     "text": [
      "gosdt reported possible timeout.\n",
      "training completed. -1.000/-1.000/-1.000 (user, system, wall), mem=0 MB\n",
      "bounds: [0.204104..0.339135] (0.135030) loss=0.319135, iterations=779999\n",
      "evaluate the model, extracting tree and scores\n",
      "Model training time: -1\n",
      "Training accuracy: 0.6808654496281271\n",
      "# of leaves: 2\n",
      "if trump = 1.0 then:\n",
      "    predicted class: 1\n",
      "    misclassification penalty: 0.306\n",
      "    complexity penalty: 0.01\n",
      "\n",
      "else if trump != 1.0 then:\n",
      "    predicted class: 0\n",
      "    misclassification penalty: 0.013\n",
      "    complexity penalty: 0.01\n"
     ]
    }
   ],
   "source": [
    "from model.gosdt import GOSDT\n",
    "# set GOSDT configuration\n",
    "config = {\n",
    "            \"regularization\": 0.01, # regularization penalizes the tree with more leaves. We recommend to set it to relative high value to find a sparse tree.  \n",
    "            # \"depth_budget\": 6,\n",
    "            \"time_limit\": 360, # training time limit in seconds\n",
    "            # \"similar_support\": False\n",
    "            \"verbose\": True,\n",
    "        }\n",
    "\n",
    "model = GOSDT(config)\n",
    "\n",
    "# train GOSDT \n",
    "model.fit(X, y)\n",
    "print(\"evaluate the model, extracting tree and scores\", flush=True)\n",
    "\n",
    "acc = model.score(X, y)\n",
    "n_leaves = model.leaves()\n",
    "n_nodes = model.nodes()\n",
    "time = model.utime\n",
    "\n",
    "print(\"Model training time: {}\".format(time))\n",
    "print(\"Training accuracy: {}\".format(acc))\n",
    "print(\"# of leaves: {}\".format(n_leaves))\n",
    "print(model.tree)"
   ]
  },
  {
   "cell_type": "markdown",
   "metadata": {},
   "source": [
    "#### Sci_kit learn standard decision tree"
   ]
  },
  {
   "cell_type": "code",
   "execution_count": 15,
   "metadata": {},
   "outputs": [
    {
     "name": "stdout",
     "output_type": "stream",
     "text": [
      "Training accuracy: 0.8286004056795132\n",
      "# of leaves: 536, depth: 20\n"
     ]
    }
   ],
   "source": [
    "from sklearn.tree import DecisionTreeClassifier\n",
    "\n",
    "# create a decision tree classifier\n",
    "clf = DecisionTreeClassifier()\n",
    "\n",
    "# train the classifier\n",
    "clf.fit(X, y)\n",
    "acc = clf.score(X, y)\n",
    "print(f\"Training accuracy: {acc}\")\n",
    "print(f\"# of leaves: {clf.get_n_leaves()}, depth: {clf.get_depth()}\")"
   ]
  },
  {
   "cell_type": "code",
   "execution_count": 18,
   "metadata": {},
   "outputs": [
    {
     "name": "stdout",
     "output_type": "stream",
     "text": [
      "Decision path:   (0, 0)\t1\n",
      "  (0, 1)\t1\n",
      "  (0, 2)\t1\n",
      "  (0, 376)\t1\n",
      "  (0, 392)\t1\n",
      "  (0, 393)\t1\n",
      "  (0, 394)\t1\n",
      "  (0, 395)\t1\n",
      "  (0, 427)\t1\n",
      "  (0, 428)\t1\n",
      "  (0, 429)\t1\n",
      "  (0, 447)\t1\n",
      "  (1, 0)\t1\n",
      "  (1, 1)\t1\n",
      "  (1, 2)\t1\n",
      "  (1, 376)\t1\n",
      "  (1, 392)\t1\n",
      "  (1, 393)\t1\n",
      "  (1, 394)\t1\n",
      "  (1, 395)\t1\n",
      "  (1, 396)\t1\n",
      "  (1, 397)\t1\n",
      "  (1, 401)\t1\n",
      "  (1, 402)\t1\n",
      "  (1, 403)\t1\n",
      "  :\t:\n",
      "  (2956, 0)\t1\n",
      "  (2956, 1)\t1\n",
      "  (2956, 2)\t1\n",
      "  (2956, 3)\t1\n",
      "  (2956, 81)\t1\n",
      "  (2956, 82)\t1\n",
      "  (2956, 254)\t1\n",
      "  (2956, 255)\t1\n",
      "  (2956, 269)\t1\n",
      "  (2956, 270)\t1\n",
      "  (2956, 278)\t1\n",
      "  (2957, 0)\t1\n",
      "  (2957, 1)\t1\n",
      "  (2957, 485)\t1\n",
      "  (2957, 486)\t1\n",
      "  (2957, 662)\t1\n",
      "  (2957, 663)\t1\n",
      "  (2957, 664)\t1\n",
      "  (2957, 665)\t1\n",
      "  (2957, 666)\t1\n",
      "  (2957, 668)\t1\n",
      "  (2957, 669)\t1\n",
      "  (2957, 670)\t1\n",
      "  (2957, 671)\t1\n",
      "  (2957, 681)\t1\n"
     ]
    }
   ],
   "source": [
    "print(f'Decision path: {clf.decision_path(X)}')"
   ]
  }
 ],
 "metadata": {
  "kernelspec": {
   "display_name": "gosdt_venv",
   "language": "python",
   "name": "python3"
  },
  "language_info": {
   "codemirror_mode": {
    "name": "ipython",
    "version": 3
   },
   "file_extension": ".py",
   "mimetype": "text/x-python",
   "name": "python",
   "nbconvert_exporter": "python",
   "pygments_lexer": "ipython3",
   "version": "3.9.7"
  }
 },
 "nbformat": 4,
 "nbformat_minor": 2
}
