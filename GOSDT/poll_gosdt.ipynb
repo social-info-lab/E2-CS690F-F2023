{
 "cells": [
  {
   "cell_type": "code",
   "execution_count": 2,
   "metadata": {},
   "outputs": [],
   "source": [
    "import pandas as pd\n",
    "from sklearn.metrics import precision_recall_fscore_support\n",
    "from sklearn.model_selection import train_test_split"
   ]
  },
  {
   "cell_type": "code",
   "execution_count": 7,
   "metadata": {},
   "outputs": [],
   "source": [
    "# read the dataset\n",
    "df = pd.read_csv(\"../datasets/polls-tfidf-top-k.csv\")\n",
    "# remove the column 'class' if present as this causes an internal error\n",
    "if 'class' in df.columns:\n",
    "    df = df.drop(columns=['class'])\n",
    "cut_off = 20\n",
    "if cut_off < 100:\n",
    "    X, y = df.iloc[:,:cut_off].values, df.iloc[:,-1].values\n",
    "    h = df.columns[:cut_off]\n",
    "else:\n",
    "    X, y = df.iloc[:,:-1].values, df.iloc[:,-1].values\n",
    "    h = df.columns[:-1]\n",
    "\n",
    "# split the dataset into train and test\n",
    "X_train, X_test, y_train, y_test = train_test_split(X, y)\n",
    "# convert the train and test data into dataframes\n",
    "X_train, X_test = pd.DataFrame(X_train, columns=h), pd.DataFrame(X_test, columns=h)\n",
    "y_train, y_test = pd.DataFrame(y_train, columns=['relevant']), pd.DataFrame(y_test, columns=['relevant'])"
   ]
  },
  {
   "cell_type": "code",
   "execution_count": 3,
   "metadata": {},
   "outputs": [],
   "source": [
    "# X.info()"
   ]
  },
  {
   "cell_type": "code",
   "execution_count": 4,
   "metadata": {},
   "outputs": [
    {
     "name": "stdout",
     "output_type": "stream",
     "text": [
      "1/num_samples: 0.0003380662609871535\n"
     ]
    }
   ],
   "source": [
    "\"\"\"GitHub GOSDT key params:\n",
    "    regularization -- Note: We highly recommend setting the regularization to a value larger than 1/num_samples.\n",
    "    depth_budget -- limits the max depth of the tree\n",
    "\"\"\"\n",
    "print(f\"1/num_samples: {1/len(y)}\")"
   ]
  },
  {
   "cell_type": "code",
   "execution_count": 17,
   "metadata": {},
   "outputs": [
    {
     "name": "stdout",
     "output_type": "stream",
     "text": [
      "gosdt reported successful execution\n",
      "training completed. 0.000/0.000/331.539 (user, system, wall), mem=0 MB\n",
      "bounds: [0.259798..0.259798] (0.000000) loss=0.235798, iterations=3958916\n",
      "evaluate the model, extracting tree and scores\n",
      "Model training time: 0.0\n",
      "Training accuracy: 0.7642019837691614\n",
      "Error: 0.23579801623083863\n",
      "Precision: [0.74545455 0.76884139], Recall: [0.44384303 0.92427316], F1: [0.55640373 0.83942278], Support: [ 739 1479]\n",
      "# of leaves: 12\n",
      "if clinton = 1.0 and realdonaldtrump = 1.0 and trump = 1.0 then:\n",
      "    predicted class: 0\n",
      "    misclassification penalty: 0.007\n",
      "    complexity penalty: 0.002\n",
      "\n",
      "else if clinton = 1.0 and realdonaldtrump != 1.0 and trump = 1.0 then:\n",
      "    predicted class: 1\n",
      "    misclassification penalty: 0.011\n",
      "    complexity penalty: 0.002\n",
      "\n",
      "else if clinton = 1.0 and trump != 1.0 then:\n",
      "    predicted class: 0\n",
      "    misclassification penalty: 0.002\n",
      "    complexity penalty: 0.002\n",
      "\n",
      "else if clinton != 1.0 and who = 1.0 then:\n",
      "    predicted class: 1\n",
      "    misclassification penalty: 0.028\n",
      "    complexity penalty: 0.002\n",
      "\n",
      "else if biden = 1.0 and clinton != 1.0 and donald = 1.0 and poll = 1.0 and who != 1.0 then:\n",
      "    predicted class: 0\n",
      "    misclassification penalty: 0.002\n",
      "    complexity penalty: 0.002\n",
      "\n",
      "else if biden = 1.0 and clinton != 1.0 and donald = 1.0 and poll != 1.0 and who != 1.0 then:\n",
      "    predicted class: 1\n",
      "    misclassification penalty: 0.007\n",
      "    complexity penalty: 0.002\n",
      "\n",
      "else if biden = 1.0 and clinton != 1.0 and donald != 1.0 and joe = 1.0 and who != 1.0 then:\n",
      "    predicted class: 0\n",
      "    misclassification penalty: 0.01\n",
      "    complexity penalty: 0.002\n",
      "\n",
      "else if biden = 1.0 and clinton != 1.0 and donald != 1.0 and joe != 1.0 and poll = 1.0 and retweet = 1.0 and who != 1.0 then:\n",
      "    predicted class: 0\n",
      "    misclassification penalty: 0.008\n",
      "    complexity penalty: 0.002\n",
      "\n",
      "else if biden = 1.0 and clinton != 1.0 and donald != 1.0 and joe != 1.0 and poll = 1.0 and retweet != 1.0 and who != 1.0 then:\n",
      "    predicted class: 1\n",
      "    misclassification penalty: 0.031\n",
      "    complexity penalty: 0.002\n",
      "\n",
      "else if biden = 1.0 and clinton != 1.0 and debate = 1.0 and donald != 1.0 and joe != 1.0 and poll != 1.0 and who != 1.0 then:\n",
      "    predicted class: 0\n",
      "    misclassification penalty: 0.003\n",
      "    complexity penalty: 0.002\n",
      "\n",
      "else if biden = 1.0 and clinton != 1.0 and debate != 1.0 and donald != 1.0 and joe != 1.0 and poll != 1.0 and who != 1.0 then:\n",
      "    predicted class: 1\n",
      "    misclassification penalty: 0.108\n",
      "    complexity penalty: 0.002\n",
      "\n",
      "else if biden != 1.0 and clinton != 1.0 and who != 1.0 then:\n",
      "    predicted class: 0\n",
      "    misclassification penalty: 0.018\n",
      "    complexity penalty: 0.002\n"
     ]
    }
   ],
   "source": [
    "from model.gosdt import GOSDT\n",
    "# set GOSDT configuration\n",
    "config = {\n",
    "            \"regularization\": 0.002, # regularization penalizes the tree with more leaves. We recommend to set it to relative high value to find a sparse tree.  \n",
    "            \"depth_budget\": 8,\n",
    "            \"time_limit\": 600, # training time limit in seconds\n",
    "            # \"similar_support\": False\n",
    "            \"verbose\": True,\n",
    "        }\n",
    "\n",
    "model = GOSDT(config)\n",
    "\n",
    "# train GOSDT \n",
    "model.fit(X_train, y_train)\n",
    "print(\"evaluate the model, extracting tree and scores\", flush=True)\n",
    "\n",
    "prec, rec, f1, supp = precision_recall_fscore_support(y_train, model.predict(X_train))\n",
    "acc = model.score(X_train, y_train)\n",
    "n_leaves = model.leaves()\n",
    "n_nodes = model.nodes()\n",
    "time = model.utime\n",
    "\n",
    "print(f\"Model training time: {time}\")\n",
    "print(f\"Training accuracy: {acc}\")\n",
    "print(f\"Error: {model.error(X_train, y_train)}\")\n",
    "print(f\"Precision: {prec}, Recall: {rec}, F1: {f1}, Support: {supp}\")\n",
    "print(f\"# of leaves: {n_leaves}\")\n",
    "print(model.tree)"
   ]
  },
  {
   "cell_type": "code",
   "execution_count": 9,
   "metadata": {},
   "outputs": [
    {
     "data": {
      "text/plain": [
       "'[ $clinton  \\\\eq  1.0$ [ $trump  \\\\eq  1.0$ [ $realdonaldtrump  \\\\eq  1.0$ [ $class$ [ $0$ ] ] [ $class$ [ $1$ ] ] ] [ $class$ [ $0$ ] ] ] [ $who  \\\\eq  1.0$ [ $class$ [ $1$ ] ] [ $biden  \\\\eq  1.0$ [ $poll  \\\\eq  1.0$ [ $retweet  \\\\eq  1.0$ [ $class$ [ $0$ ] ] [ $class$ [ $1$ ] ] ] [ $class$ [ $1$ ] ] ] [ $class$ [ $0$ ] ] ] ] ]'"
      ]
     },
     "execution_count": 9,
     "metadata": {},
     "output_type": "execute_result"
    }
   ],
   "source": [
    "# model.latex()"
   ]
  },
  {
   "cell_type": "markdown",
   "metadata": {},
   "source": [
    "#### Sci_kit learn standard decision tree"
   ]
  },
  {
   "cell_type": "code",
   "execution_count": 14,
   "metadata": {},
   "outputs": [
    {
     "name": "stdout",
     "output_type": "stream",
     "text": [
      "Training accuracy: 0.7222723174030659\n",
      "Precision: [0.78341014 0.71564218], Recall: [0.2300406  0.96822177], F1: [0.35564854 0.82298851], Support: [ 739 1479]\n",
      "# of leaves: 8, depth: 3\n"
     ]
    }
   ],
   "source": [
    "from sklearn import tree\n",
    "\n",
    "# create a decision tree classifier\n",
    "clf = tree.DecisionTreeClassifier(max_depth=3, min_samples_leaf=5)\n",
    "\n",
    "# train the classifier\n",
    "clf.fit(X_train, y_train)\n",
    "acc = clf.score(X_train, y_train)\n",
    "prec, rec, f1, supp = precision_recall_fscore_support(y_train, clf.predict(X_train)) #, pos_label=1, average='binary')\n",
    "print(f\"Training accuracy: {acc}\")\n",
    "print(f\"Precision: {prec}, Recall: {rec}, F1: {f1}, Support: {supp}\")\n",
    "print(f\"# of leaves: {clf.get_n_leaves()}, depth: {clf.get_depth()}\")"
   ]
  },
  {
   "cell_type": "code",
   "execution_count": 16,
   "metadata": {},
   "outputs": [
    {
     "data": {
      "image/png": "[encoded data removed]",
      "text/plain": [
       "<Figure size 640x480 with 1 Axes>"
      ]
     },
     "metadata": {},
     "output_type": "display_data"
    }
   ],
   "source": [
    "_ = tree.plot_tree(clf, feature_names=h, class_names=['irrelevant', 'relevant'], filled=True)"
   ]
  },
  {
   "cell_type": "code",
   "execution_count": 12,
   "metadata": {},
   "outputs": [
    {
     "name": "stdout",
     "output_type": "stream",
     "text": [
      "|--- who <= 0.50\n",
      "|   |--- election <= 0.50\n",
      "|   |   |--- clinton <= 0.50\n",
      "|   |   |   |--- class: 0\n",
      "|   |   |--- clinton >  0.50\n",
      "|   |   |   |--- class: 1\n",
      "|   |--- election >  0.50\n",
      "|   |   |--- president <= 0.50\n",
      "|   |   |   |--- class: 1\n",
      "|   |   |--- president >  0.50\n",
      "|   |   |   |--- class: 1\n",
      "|--- who >  0.50\n",
      "|   |--- realdonaldtrump <= 0.50\n",
      "|   |   |--- clinton <= 0.50\n",
      "|   |   |   |--- class: 1\n",
      "|   |   |--- clinton >  0.50\n",
      "|   |   |   |--- class: 1\n",
      "|   |--- realdonaldtrump >  0.50\n",
      "|   |   |--- win <= 0.50\n",
      "|   |   |   |--- class: 1\n",
      "|   |   |--- win >  0.50\n",
      "|   |   |   |--- class: 1\n",
      "\n"
     ]
    }
   ],
   "source": [
    "tree_text = tree.export_text(clf, feature_names=h.tolist())\n",
    "print(tree_text)"
   ]
  },
  {
   "cell_type": "code",
   "execution_count": 13,
   "metadata": {},
   "outputs": [],
   "source": [
    "# print(f'Decision path: {clf.decision_path(X)}')"
   ]
  }
 ],
 "metadata": {
  "kernelspec": {
   "display_name": "gosdt_venv",
   "language": "python",
   "name": "python3"
  },
  "language_info": {
   "codemirror_mode": {
    "name": "ipython",
    "version": 3
   },
   "file_extension": ".py",
   "mimetype": "text/x-python",
   "name": "python",
   "nbconvert_exporter": "python",
   "pygments_lexer": "ipython3",
   "version": "3.9.7"
  }
 },
 "nbformat": 4,
 "nbformat_minor": 2
}
