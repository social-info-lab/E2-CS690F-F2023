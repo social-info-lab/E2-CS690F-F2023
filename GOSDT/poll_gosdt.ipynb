{
 "cells": [
  {
   "cell_type": "code",
   "execution_count": 5,
   "metadata": {},
   "outputs": [],
   "source": [
    "import pandas as pd\n",
    "import numpy as np\n",
    "from sklearn.metrics import precision_recall_fscore_support\n",
    "from sklearn.model_selection import train_test_split"
   ]
  },
  {
   "cell_type": "code",
   "execution_count": 2,
   "metadata": {},
   "outputs": [],
   "source": [
    "# read the dataset\n",
    "df = pd.read_csv(\"../datasets/polls-13k.csv\")\n",
    "# remove the column 'class' if present as this causes an internal error\n",
    "if 'class' in df.columns:\n",
    "    df = df.drop(columns=['class'])\n",
    "cut_off = 20\n",
    "if cut_off < 100:\n",
    "    X, y = df.iloc[:,:cut_off].values, df.iloc[:,-1].values\n",
    "    h = df.columns[:cut_off]\n",
    "else:\n",
    "    X, y = df.iloc[:,:-1].values, df.iloc[:,-1].values\n",
    "    h = df.columns[:-1]\n",
    "\n",
    "# split the dataset into train and test\n",
    "X_train, X_test, y_train, y_test = train_test_split(X, y)\n",
    "# convert the train and test data into dataframes\n",
    "X_train, X_test = pd.DataFrame(X_train, columns=h), pd.DataFrame(X_test, columns=h)\n",
    "y_train, y_test = pd.DataFrame(y_train, columns=['relevant']), pd.DataFrame(y_test, columns=['relevant'])"
   ]
  },
  {
   "cell_type": "code",
   "execution_count": 3,
   "metadata": {},
   "outputs": [],
   "source": [
    "# X.info()"
   ]
  },
  {
   "cell_type": "code",
   "execution_count": 4,
   "metadata": {},
   "outputs": [
    {
     "name": "stdout",
     "output_type": "stream",
     "text": [
      "1/num_samples: 0.0003380662609871535\n"
     ]
    }
   ],
   "source": [
    "\"\"\"GitHub GOSDT key params:\n",
    "    regularization -- Note: We highly recommend setting the regularization to a value larger than 1/num_samples.\n",
    "    depth_budget -- limits the max depth of the tree\n",
    "\"\"\"\n",
    "print(f\"1/num_samples: {1/len(y)}\")"
   ]
  },
  {
   "cell_type": "code",
   "execution_count": 23,
   "metadata": {},
   "outputs": [
    {
     "name": "stdout",
     "output_type": "stream",
     "text": [
      "gosdt reported successful execution\n",
      "training completed. 0.000/0.000/4.897 (user, system, wall), mem=0 MB\n",
      "bounds: [0.075960..0.075960] (0.000000) loss=0.065960, iterations=67962\n",
      "evaluate the model, extracting tree and scores\n",
      "Model training time: 0.0\n",
      "Training accuracy: 0.9340399259106812\n",
      "Metrics per class: [0 1] with 1=Relevant\n",
      "Precision: [0.9925 0.7107], Recall: [0.9291 0.9611], F1: [0.9598 0.8171], Support: [8228 1490]\n",
      "# of leaves: 5\n",
      "if biden = 1.0 and trump = 1.0 then:\n",
      "    predicted class: 1\n",
      "    misclassification penalty: 0.053\n",
      "    complexity penalty: 0.002\n",
      "\n",
      "else if biden != 1.0 and trump = 1.0 and who = 1.0 then:\n",
      "    predicted class: 1\n",
      "    misclassification penalty: 0.001\n",
      "    complexity penalty: 0.002\n",
      "\n",
      "else if biden != 1.0 and clinton = 1.0 and trump = 1.0 and who != 1.0 then:\n",
      "    predicted class: 1\n",
      "    misclassification penalty: 0.006\n",
      "    complexity penalty: 0.002\n",
      "\n",
      "else if biden != 1.0 and clinton != 1.0 and trump = 1.0 and who != 1.0 then:\n",
      "    predicted class: 0\n",
      "    misclassification penalty: 0.003\n",
      "    complexity penalty: 0.002\n",
      "\n",
      "else if trump != 1.0 then:\n",
      "    predicted class: 0\n",
      "    misclassification penalty: 0.003\n",
      "    complexity penalty: 0.002\n"
     ]
    }
   ],
   "source": [
    "from model.gosdt import GOSDT\n",
    "# set GOSDT configuration\n",
    "config = {\n",
    "            \"regularization\": 0.002,#0.002, # regularization penalizes the tree with more leaves. We recommend to set it to relative high value to find a sparse tree.  \n",
    "            \"depth_budget\": 6,\n",
    "            \"time_limit\": 600, # training time limit in seconds\n",
    "            # \"similar_support\": False\n",
    "            \"verbose\": True,\n",
    "        }\n",
    "\n",
    "model = GOSDT(config)\n",
    "\n",
    "# train GOSDT \n",
    "model.fit(X_train, y_train)\n",
    "print(\"evaluate the model, extracting tree and scores\", flush=True)\n",
    "\n",
    "prec, rec, f1, supp = precision_recall_fscore_support(y_train, model.predict(X_train))\n",
    "acc = model.score(X_train, y_train)\n",
    "n_leaves = model.leaves()\n",
    "n_nodes = model.nodes()\n",
    "time = model.utime\n",
    "\n",
    "print(f\"Model training time: {time}\")\n",
    "print(f\"Training accuracy: {acc}\")\n",
    "# print(f\"Error: {model.error(X_train, y_train)}\")\n",
    "print(\"Metrics per class: [0 1] with 1=Relevant\")\n",
    "print(f\"Precision: {np.round(prec,4)}, Recall: {np.round(rec,4)}, F1: {np.round(f1,4)}, Support: {supp}\")\n",
    "print(f\"# of leaves: {n_leaves}\")\n",
    "df_eval = pd.DataFrame({\"precision\": prec, \"recall\": rec, \"f1\": f1, \"support\": supp})\n",
    "print(model.tree)"
   ]
  },
  {
   "cell_type": "code",
   "execution_count": 9,
   "metadata": {},
   "outputs": [
    {
     "data": {
      "text/plain": [
       "'[ $clinton  \\\\eq  1.0$ [ $trump  \\\\eq  1.0$ [ $realdonaldtrump  \\\\eq  1.0$ [ $class$ [ $0$ ] ] [ $class$ [ $1$ ] ] ] [ $class$ [ $0$ ] ] ] [ $who  \\\\eq  1.0$ [ $class$ [ $1$ ] ] [ $biden  \\\\eq  1.0$ [ $poll  \\\\eq  1.0$ [ $retweet  \\\\eq  1.0$ [ $class$ [ $0$ ] ] [ $class$ [ $1$ ] ] ] [ $class$ [ $1$ ] ] ] [ $class$ [ $0$ ] ] ] ] ]'"
      ]
     },
     "execution_count": 9,
     "metadata": {},
     "output_type": "execute_result"
    }
   ],
   "source": [
    "# model.latex()"
   ]
  },
  {
   "cell_type": "markdown",
   "metadata": {},
   "source": [
    "#### Sci_kit learn standard decision tree"
   ]
  },
  {
   "cell_type": "code",
   "execution_count": 24,
   "metadata": {},
   "outputs": [
    {
     "name": "stdout",
     "output_type": "stream",
     "text": [
      "Training accuracy: 0.9258077793784729\n",
      "Precision: [0.9971 0.6774], Recall: [0.915  0.9852], F1: [0.9543 0.8028], Support: [8228 1490]\n",
      "# of leaves: 8, depth: 3\n"
     ]
    },
    {
     "data": {
      "text/html": [
       "<div>\n",
       "<style scoped>\n",
       "    .dataframe tbody tr th:only-of-type {\n",
       "        vertical-align: middle;\n",
       "    }\n",
       "\n",
       "    .dataframe tbody tr th {\n",
       "        vertical-align: top;\n",
       "    }\n",
       "\n",
       "    .dataframe thead th {\n",
       "        text-align: right;\n",
       "    }\n",
       "</style>\n",
       "<table border=\"1\" class=\"dataframe\">\n",
       "  <thead>\n",
       "    <tr style=\"text-align: right;\">\n",
       "      <th></th>\n",
       "      <th>precision</th>\n",
       "      <th>recall</th>\n",
       "      <th>f1</th>\n",
       "      <th>support</th>\n",
       "    </tr>\n",
       "  </thead>\n",
       "  <tbody>\n",
       "    <tr>\n",
       "      <th>GOSDT 0</th>\n",
       "      <td>0.992470</td>\n",
       "      <td>0.929144</td>\n",
       "      <td>0.959764</td>\n",
       "      <td>8228.0</td>\n",
       "    </tr>\n",
       "    <tr>\n",
       "      <th>GOSDT 1</th>\n",
       "      <td>0.710670</td>\n",
       "      <td>0.961074</td>\n",
       "      <td>0.817118</td>\n",
       "      <td>1490.0</td>\n",
       "    </tr>\n",
       "    <tr>\n",
       "      <th>DT 0</th>\n",
       "      <td>0.997086</td>\n",
       "      <td>0.915046</td>\n",
       "      <td>0.954306</td>\n",
       "      <td>8228.0</td>\n",
       "    </tr>\n",
       "    <tr>\n",
       "      <th>DT 1</th>\n",
       "      <td>0.677434</td>\n",
       "      <td>0.985235</td>\n",
       "      <td>0.802844</td>\n",
       "      <td>1490.0</td>\n",
       "    </tr>\n",
       "  </tbody>\n",
       "</table>\n",
       "</div>"
      ],
      "text/plain": [
       "         precision    recall        f1  support\n",
       "GOSDT 0   0.992470  0.929144  0.959764   8228.0\n",
       "GOSDT 1   0.710670  0.961074  0.817118   1490.0\n",
       "DT 0      0.997086  0.915046  0.954306   8228.0\n",
       "DT 1      0.677434  0.985235  0.802844   1490.0"
      ]
     },
     "execution_count": 24,
     "metadata": {},
     "output_type": "execute_result"
    }
   ],
   "source": [
    "from sklearn import tree\n",
    "\n",
    "# create a decision tree classifier\n",
    "clf = tree.DecisionTreeClassifier(max_depth=3, min_samples_leaf=5)\n",
    "\n",
    "# train the classifier\n",
    "clf.fit(X_train, y_train)\n",
    "acc = clf.score(X_train, y_train)\n",
    "prec, rec, f1, supp = precision_recall_fscore_support(y_train, clf.predict(X_train)) #, pos_label=1, average='binary')\n",
    "print(f\"Training accuracy: {acc}\")\n",
    "print(f\"Precision: {np.round(prec,4)}, Recall: {np.round(rec,4)}, F1: {np.round(f1,4)}, Support: {supp}\")\n",
    "print(f\"# of leaves: {clf.get_n_leaves()}, depth: {clf.get_depth()}\")\n",
    "\n",
    "# add row to df_eval\n",
    "df_eval.loc[len(df_eval)] = [prec[0], rec[0], f1[0], supp[0]]\n",
    "df_eval.loc[len(df_eval)] = [prec[1], rec[1], f1[1], supp[1]]\n",
    "df_eval.index = ['GOSDT 0', 'GOSDT 1', 'DT 0', 'DT 1']\n",
    "df_eval"
   ]
  },
  {
   "cell_type": "code",
   "execution_count": 10,
   "metadata": {},
   "outputs": [
    {
     "data": {
      "image/png": "[encoded data removed]",
      "text/plain": [
       "<Figure size 640x480 with 1 Axes>"
      ]
     },
     "metadata": {},
     "output_type": "display_data"
    }
   ],
   "source": [
    "_ = tree.plot_tree(clf, feature_names=h, class_names=['irrelevant', 'relevant'], filled=True)"
   ]
  },
  {
   "cell_type": "code",
   "execution_count": 11,
   "metadata": {},
   "outputs": [
    {
     "name": "stdout",
     "output_type": "stream",
     "text": [
      "|--- trump <= 0.50\n",
      "|   |--- biden <= 0.50\n",
      "|   |   |--- election <= 0.50\n",
      "|   |   |   |--- class: 0\n",
      "|   |   |--- election >  0.50\n",
      "|   |   |   |--- class: 0\n",
      "|   |--- biden >  0.50\n",
      "|   |   |--- rt <= 0.50\n",
      "|   |   |   |--- class: 1\n",
      "|   |   |--- rt >  0.50\n",
      "|   |   |   |--- class: 0\n",
      "|--- trump >  0.50\n",
      "|   |--- who <= 0.50\n",
      "|   |   |--- clinton <= 0.50\n",
      "|   |   |   |--- class: 1\n",
      "|   |   |--- clinton >  0.50\n",
      "|   |   |   |--- class: 1\n",
      "|   |--- who >  0.50\n",
      "|   |   |--- amp <= 0.50\n",
      "|   |   |   |--- class: 1\n",
      "|   |   |--- amp >  0.50\n",
      "|   |   |   |--- class: 1\n",
      "\n"
     ]
    }
   ],
   "source": [
    "tree_text = tree.export_text(clf, feature_names=h.tolist())\n",
    "print(tree_text)"
   ]
  },
  {
   "cell_type": "code",
   "execution_count": 13,
   "metadata": {},
   "outputs": [],
   "source": [
    "# print(f'Decision path: {clf.decision_path(X)}')"
   ]
  }
 ],
 "metadata": {
  "kernelspec": {
   "display_name": "gosdt_venv",
   "language": "python",
   "name": "python3"
  },
  "language_info": {
   "codemirror_mode": {
    "name": "ipython",
    "version": 3
   },
   "file_extension": ".py",
   "mimetype": "text/x-python",
   "name": "python",
   "nbconvert_exporter": "python",
   "pygments_lexer": "ipython3",
   "version": "3.9.7"
  }
 },
 "nbformat": 4,
 "nbformat_minor": 2
}
